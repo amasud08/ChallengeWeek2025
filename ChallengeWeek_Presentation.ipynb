{
 "cells": [
  {
   "cell_type": "code",
   "execution_count": null,
   "metadata": {},
   "outputs": [
    {
     "ename": "",
     "evalue": "",
     "output_type": "error",
     "traceback": [
      "\u001b[1;31mThe kernel failed to start as a dll could not be loaded.\n",
      "\u001b[1;31mClick <a href='https://aka.ms/kernelFailuresDllLoad'>here</a> for more info."
     ]
    }
   ],
   "source": [
    "import os\n",
    "import geopandas as gpd\n",
    "import matplotlib.pyplot as plt\n",
    "import pandas as pd\n",
    "import ipykernel"
   ]
  },
  {
   "cell_type": "markdown",
   "metadata": {
    "slideshow": {
     "slide_type": "slide"
    }
   },
   "source": [
    "# **Identifying housing redevelopment opportunities in Doncaster and Rotherham**"
   ]
  },
  {
   "cell_type": "markdown",
   "metadata": {
    "slideshow": {
     "slide_type": "slide"
    }
   },
   "source": [
    "# **Challenge 2 Objectives**\n",
    "\n",
    "1. Identify suitable satellite imagery techniques for Grey Belt recognition​\n",
    "2. Integrate with additional data sources for deeper insights​\n",
    "3. Develop effective communication methods for planners"
   ]
  },
  {
   "cell_type": "markdown",
   "metadata": {
    "slideshow": {
     "slide_type": "slide"
    }
   },
   "source": [
    "# **Defining Grey-Belt**\n",
    "\n",
    "Land within the Green Belt that:​\n",
    "\n",
    "1. Contains brownfield sites​\n",
    "2. Does not strongly contribute to: ​\n",
    "    - Prevention of unrestricted urban sprawl​\n",
    "    - Prevention of neighboring towns merging into one another​\n",
    "    - Preservation of the setting and special character of historic towns​\n",
    "\n",
    "**!Important Exclusions!​**\n",
    "Protected land under planning policy​\n",
    "- Flood zones\n",
    "- Conservation areas, ​\n",
    "- Sites of Special Scientific Interest​\n",
    "\n",
    "​**!Development Requirements!​**\n",
    "Have appropriate transport connections​\n",
    "Meet demonstrable unmet development needs​\n",
    "Not undermine the remaining Green Belt​\n",
    "\n",
    "Comply with the \"Golden Rules\":​\n",
    "- Provide affordable housing​\n",
    "- Improve infrastructure​\n",
    "- Improvements to green spaces​"
   ]
  },
  {
   "cell_type": "markdown",
   "metadata": {
    "slideshow": {
     "slide_type": "slide"
    }
   },
   "source": []
  },
  {
   "cell_type": "markdown",
   "metadata": {
    "slideshow": {
     "slide_type": "slide"
    }
   },
   "source": [
    "# **Methodology**\n",
    "\n",
    "![Challenge 2 earth observation methodology](./figures/EO_flowchart-data.png)\n"
   ]
  },
  {
   "cell_type": "code",
   "execution_count": null,
   "metadata": {},
   "outputs": [],
   "source": [
    "##### Create a virtual environment #####\n",
    "# uv venv\n",
    "# uv init\n",
    "# $env:Path = \"C:\\Users\\c1032379\\.local\\bin;$env:Path\"\n",
    "# .venv\\Scripts\\activate\n",
    "# uv add geopandas  \n",
    "\n",
    "##### Run presentation in the terminal #####\n",
    "# jupyter nbconvert ChallengeWeek_Presentation.ipynb --to slides --post serve --no-input --no-prompt"
   ]
  }
 ],
 "metadata": {
  "kernelspec": {
   "display_name": ".venv",
   "language": "python",
   "name": "python3"
  },
  "language_info": {
   "codemirror_mode": {
    "name": "ipython",
    "version": 3
   },
   "file_extension": ".py",
   "mimetype": "text/x-python",
   "name": "python",
   "nbconvert_exporter": "python",
   "pygments_lexer": "ipython3",
   "version": "3.9.7"
  }
 },
 "nbformat": 4,
 "nbformat_minor": 2
}
